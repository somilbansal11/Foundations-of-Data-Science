{
  "nbformat": 4,
  "nbformat_minor": 0,
  "metadata": {
    "colab": {
      "provenance": [],
      "collapsed_sections": []
    },
    "kernelspec": {
      "name": "python3",
      "display_name": "Python 3"
    },
    "language_info": {
      "name": "python"
    }
  },
  "cells": [
    {
      "cell_type": "code",
      "source": [
        "from google.colab import drive\n",
        "drive.mount(\"/content/drive\")"
      ],
      "metadata": {
        "colab": {
          "base_uri": "https://localhost:8080/"
        },
        "id": "oO96_BZmJhGN",
        "outputId": "a0acb18a-6497-462c-be2c-ed45ae1e3411"
      },
      "execution_count": null,
      "outputs": [
        {
          "output_type": "stream",
          "name": "stdout",
          "text": [
            "Mounted at /content/drive\n"
          ]
        }
      ]
    },
    {
      "cell_type": "code",
      "source": [
        "import numpy as np\n"
      ],
      "metadata": {
        "id": "171cOhi1PjeQ"
      },
      "execution_count": 1,
      "outputs": []
    },
    {
      "cell_type": "code",
      "source": [
        "set1={\"aman\",\"222\",777,400.4}\n",
        "x=tuple(set1)\n",
        "print (x)"
      ],
      "metadata": {
        "colab": {
          "base_uri": "https://localhost:8080/"
        },
        "id": "azAxYp19oGQw",
        "outputId": "d1dbb407-fecb-429d-abd2-c3f7ccab3136"
      },
      "execution_count": 3,
      "outputs": [
        {
          "output_type": "stream",
          "name": "stdout",
          "text": [
            "(400.4, 'aman', 777, '222')\n"
          ]
        }
      ]
    },
    {
      "cell_type": "code",
      "source": [
        "dict={\"roll_no\":20235,\"name\":\"mahasri\",\"last_name:\":\"V\",\"date_of_birth\":\"21.01.2003\"}\n",
        "print(dict)"
      ],
      "metadata": {
        "colab": {
          "base_uri": "https://localhost:8080/"
        },
        "id": "R0RBlMF7ofzQ",
        "outputId": "20a06c60-43f5-417a-ba9c-abda0ea1d73f"
      },
      "execution_count": 4,
      "outputs": [
        {
          "output_type": "stream",
          "name": "stdout",
          "text": [
            "{'roll_no': 20235, 'name': 'mahasri', 'last_name:': 'V', 'date_of_birth': '21.01.2003'}\n"
          ]
        }
      ]
    },
    {
      "cell_type": "code",
      "source": [
        "import random as rand\n"
      ],
      "metadata": {
        "id": "iKIW8QeSrK21"
      },
      "execution_count": 5,
      "outputs": []
    },
    {
      "cell_type": "code",
      "source": [
        "np.random.randint(4,size=(4,5))\n",
        "#np.random is a module---rand is a function in that"
      ],
      "metadata": {
        "colab": {
          "base_uri": "https://localhost:8080/"
        },
        "id": "K97xMDGirzEp",
        "outputId": "e311c1a0-680c-4add-ba6e-f5716f24a015"
      },
      "execution_count": 17,
      "outputs": [
        {
          "output_type": "execute_result",
          "data": {
            "text/plain": [
              "array([[1, 0, 0, 1, 1],\n",
              "       [1, 0, 0, 0, 2],\n",
              "       [0, 3, 2, 3, 0],\n",
              "       [1, 2, 1, 2, 0]])"
            ]
          },
          "metadata": {},
          "execution_count": 17
        }
      ]
    },
    {
      "cell_type": "code",
      "source": [
        "np.random.rand(1)\n",
        "\n"
      ],
      "metadata": {
        "colab": {
          "base_uri": "https://localhost:8080/"
        },
        "id": "mJF4Y0ywsanR",
        "outputId": "14eb363f-5eb6-440c-d003-f622b297eb74"
      },
      "execution_count": 18,
      "outputs": [
        {
          "output_type": "execute_result",
          "data": {
            "text/plain": [
              "array([0.44861109])"
            ]
          },
          "metadata": {},
          "execution_count": 18
        }
      ]
    },
    {
      "cell_type": "code",
      "source": [
        "x=-1234\n",
        "np.absolute(x)"
      ],
      "metadata": {
        "colab": {
          "base_uri": "https://localhost:8080/"
        },
        "id": "D1XKdUbyucxU",
        "outputId": "f36f07d2-a61c-4dc3-ecaa-314e0472c23f"
      },
      "execution_count": 19,
      "outputs": [
        {
          "output_type": "execute_result",
          "data": {
            "text/plain": [
              "1234"
            ]
          },
          "metadata": {},
          "execution_count": 19
        }
      ]
    },
    {
      "cell_type": "code",
      "source": [
        "np.random.randint(20,90)"
      ],
      "metadata": {
        "colab": {
          "base_uri": "https://localhost:8080/"
        },
        "id": "hlj0vdeJumbm",
        "outputId": "9370e695-3268-4df6-fe5b-f494ff5c4e0b"
      },
      "execution_count": 22,
      "outputs": [
        {
          "output_type": "execute_result",
          "data": {
            "text/plain": [
              "21"
            ]
          },
          "metadata": {},
          "execution_count": 22
        }
      ]
    },
    {
      "cell_type": "code",
      "source": [
        "set1={11,12,13,14,15}\n",
        "a=[]\n",
        "for i in range(len(set1)):\n",
        "  a.append(i)\n",
        "print(a)\n",
        "print(set1)\n",
        "np.random.choice(set1)"
      ],
      "metadata": {
        "colab": {
          "base_uri": "https://localhost:8080/",
          "height": 391
        },
        "id": "OpZTOycyuymZ",
        "outputId": "9ce42f5f-34e1-4b51-f95f-d28be53f6723"
      },
      "execution_count": 40,
      "outputs": [
        {
          "output_type": "stream",
          "name": "stdout",
          "text": [
            "[0, 1, 2, 3, 4]\n",
            "{11, 12, 13, 14, 15}\n"
          ]
        },
        {
          "output_type": "error",
          "ename": "ValueError",
          "evalue": "ignored",
          "traceback": [
            "\u001b[0;31m---------------------------------------------------------------------------\u001b[0m",
            "\u001b[0;31mTypeError\u001b[0m                                 Traceback (most recent call last)",
            "\u001b[0;32mmtrand.pyx\u001b[0m in \u001b[0;36mnumpy.random.mtrand.RandomState.choice\u001b[0;34m()\u001b[0m\n",
            "\u001b[0;31mTypeError\u001b[0m: 'set' object cannot be interpreted as an integer",
            "\nDuring handling of the above exception, another exception occurred:\n",
            "\u001b[0;31mValueError\u001b[0m                                Traceback (most recent call last)",
            "\u001b[0;32m<ipython-input-40-dec5baa80931>\u001b[0m in \u001b[0;36m<module>\u001b[0;34m\u001b[0m\n\u001b[1;32m      5\u001b[0m \u001b[0mprint\u001b[0m\u001b[0;34m(\u001b[0m\u001b[0ma\u001b[0m\u001b[0;34m)\u001b[0m\u001b[0;34m\u001b[0m\u001b[0;34m\u001b[0m\u001b[0m\n\u001b[1;32m      6\u001b[0m \u001b[0mprint\u001b[0m\u001b[0;34m(\u001b[0m\u001b[0mset1\u001b[0m\u001b[0;34m)\u001b[0m\u001b[0;34m\u001b[0m\u001b[0;34m\u001b[0m\u001b[0m\n\u001b[0;32m----> 7\u001b[0;31m \u001b[0mnp\u001b[0m\u001b[0;34m.\u001b[0m\u001b[0mrandom\u001b[0m\u001b[0;34m.\u001b[0m\u001b[0mchoice\u001b[0m\u001b[0;34m(\u001b[0m\u001b[0mset1\u001b[0m\u001b[0;34m)\u001b[0m\u001b[0;34m\u001b[0m\u001b[0;34m\u001b[0m\u001b[0m\n\u001b[0m",
            "\u001b[0;32mmtrand.pyx\u001b[0m in \u001b[0;36mnumpy.random.mtrand.RandomState.choice\u001b[0;34m()\u001b[0m\n",
            "\u001b[0;31mValueError\u001b[0m: a must be 1-dimensional or an integer"
          ]
        }
      ]
    },
    {
      "cell_type": "code",
      "source": [
        "file1=open(\"myfile.txt\",\"w\")"
      ],
      "metadata": {
        "id": "qJBjZ7_5wuEF"
      },
      "execution_count": 45,
      "outputs": []
    },
    {
      "cell_type": "code",
      "source": [
        "file1.write(\"The King is Dead, Long Live The King\")\n",
        "file1.close()"
      ],
      "metadata": {
        "id": "1ouswqULwQtX"
      },
      "execution_count": 46,
      "outputs": []
    },
    {
      "cell_type": "code",
      "source": [
        "file1=open(\"myfile.txt\",\"r\")\n",
        "print(file1.read())"
      ],
      "metadata": {
        "colab": {
          "base_uri": "https://localhost:8080/"
        },
        "id": "KDxK5d5K1QOR",
        "outputId": "1e02c3b4-f4bb-478f-97e3-604cfc7382c1"
      },
      "execution_count": 47,
      "outputs": [
        {
          "output_type": "stream",
          "name": "stdout",
          "text": [
            "The King is Dead, Long Live The King\n"
          ]
        }
      ]
    },
    {
      "cell_type": "code",
      "source": [
        "file1.close()\n"
      ],
      "metadata": {
        "id": "v9dOFmKr1qm7"
      },
      "execution_count": 48,
      "outputs": []
    },
    {
      "cell_type": "code",
      "source": [
        "def functions(a,b,c):\n",
        "  if a>b:\n",
        "    if a>c:\n",
        "      print(a)\n",
        "  elif b>c:\n",
        "      print (b)\n",
        "\n",
        "  else:\n",
        "      print(c)\n",
        "functions(10,20,30)\n",
        "  "
      ],
      "metadata": {
        "colab": {
          "base_uri": "https://localhost:8080/"
        },
        "id": "fz6Uhx-B1__c",
        "outputId": "746e0950-647a-43ed-a650-7b8e703181dc"
      },
      "execution_count": 56,
      "outputs": [
        {
          "output_type": "stream",
          "name": "stdout",
          "text": [
            "30\n"
          ]
        }
      ]
    },
    {
      "cell_type": "code",
      "source": [
        "def loops():\n",
        "  i=0\n",
        "  while(i<5):\n",
        "    print(i)\n",
        "    if(i==1):\n",
        "      continue\n",
        "    else:\n",
        "      break\n",
        "loops()\n"
      ],
      "metadata": {
        "colab": {
          "base_uri": "https://localhost:8080/"
        },
        "id": "TVvYGDGk4Jma",
        "outputId": "5b1e2187-70e3-44ef-a178-d33785e51f43"
      },
      "execution_count": 58,
      "outputs": [
        {
          "output_type": "stream",
          "name": "stdout",
          "text": [
            "0\n"
          ]
        }
      ]
    },
    {
      "cell_type": "code",
      "source": [
        "string=\"    The King is Dead, Long Live The King      \"\n",
        "print(string)\n",
        "print(string[0])\n",
        "print(string[3:6])\n",
        "print(string[3:])\n",
        "print(string.split())\n",
        "print(string.strip())"
      ],
      "metadata": {
        "colab": {
          "base_uri": "https://localhost:8080/"
        },
        "id": "9ZQcY7Xs5EeN",
        "outputId": "37d22d09-b32e-4fd9-e1c2-1e50e5a87760"
      },
      "execution_count": 63,
      "outputs": [
        {
          "output_type": "stream",
          "name": "stdout",
          "text": [
            "    The King is Dead, Long Live The King      \n",
            " \n",
            " Th\n",
            " The King is Dead, Long Live The King      \n",
            "['The', 'King', 'is', 'Dead,', 'Long', 'Live', 'The', 'King']\n",
            "The King is Dead, Long Live The King\n"
          ]
        }
      ]
    },
    {
      "cell_type": "code",
      "source": [
        "x=np.array([[1,2,3],[4,5,6]])\n",
        "print(x)"
      ],
      "metadata": {
        "colab": {
          "base_uri": "https://localhost:8080/"
        },
        "id": "T2eo4WP550B4",
        "outputId": "8e4c7455-aa14-4467-c45f-dfce52959d41"
      },
      "execution_count": 64,
      "outputs": [
        {
          "output_type": "stream",
          "name": "stdout",
          "text": [
            "[[1 2 3]\n",
            " [4 5 6]]\n"
          ]
        }
      ]
    },
    {
      "cell_type": "code",
      "source": [
        "list1=[1,2,4,5,8]\n",
        "x=np.array(list1)\n",
        "print(x[:2])\n"
      ],
      "metadata": {
        "colab": {
          "base_uri": "https://localhost:8080/"
        },
        "id": "j7_zoAcF6emG",
        "outputId": "3c0e6016-7f08-4c05-ef67-72450e9cbacc"
      },
      "execution_count": 70,
      "outputs": [
        {
          "output_type": "stream",
          "name": "stdout",
          "text": [
            "[1 2]\n"
          ]
        }
      ]
    },
    {
      "cell_type": "code",
      "source": [
        "x=np.array([[1,2,3],[4,5,6]])\n",
        "print(x[1:])"
      ],
      "metadata": {
        "colab": {
          "base_uri": "https://localhost:8080/"
        },
        "id": "4dKL-_068Qln",
        "outputId": "e7236d16-2c01-4170-b8f3-7da7bc8eb555"
      },
      "execution_count": 77,
      "outputs": [
        {
          "output_type": "stream",
          "name": "stdout",
          "text": [
            "[[4 5 6]]\n"
          ]
        }
      ]
    },
    {
      "cell_type": "code",
      "source": [
        "x=np.array([[1,2,3],[4,5,6]])\n",
        "y=x.reshape(-1)\n",
        "print(y)\n",
        "print(y.shape)"
      ],
      "metadata": {
        "colab": {
          "base_uri": "https://localhost:8080/"
        },
        "id": "3-5qw7B6-Dc9",
        "outputId": "05e90bb0-b8c1-4e7a-9da9-623817964787"
      },
      "execution_count": 86,
      "outputs": [
        {
          "output_type": "stream",
          "name": "stdout",
          "text": [
            "[1 2 3 4 5 6]\n",
            "(6,)\n"
          ]
        }
      ]
    },
    {
      "cell_type": "code",
      "source": [
        "array=[1,2,3]\n",
        "sum=0\n",
        "for i in range(len(array)):\n",
        "  sum=sum+array[i]\n",
        "print(sum)"
      ],
      "metadata": {
        "colab": {
          "base_uri": "https://localhost:8080/"
        },
        "id": "brS9SQiS_TfS",
        "outputId": "1daf9313-9061-41a1-8c7d-465f4e253087"
      },
      "execution_count": 87,
      "outputs": [
        {
          "output_type": "stream",
          "name": "stdout",
          "text": [
            "6\n"
          ]
        }
      ]
    },
    {
      "cell_type": "code",
      "source": [
        "\n",
        "array=[77,74,75]\n",
        "pro=1\n",
        "for i in range(len(array)):\n",
        "  pro=pro*array[i]\n",
        "print(pro)"
      ],
      "metadata": {
        "colab": {
          "base_uri": "https://localhost:8080/"
        },
        "id": "cb-wma5sAJ5z",
        "outputId": "2afc35a3-4853-41bd-a97d-8faff957f1c6"
      },
      "execution_count": 90,
      "outputs": [
        {
          "output_type": "stream",
          "name": "stdout",
          "text": [
            "427350\n"
          ]
        }
      ]
    },
    {
      "cell_type": "code",
      "source": [
        "arr1=[1,2,3]\n",
        "arr2=[4,5,6]\n",
        "pro=0\n",
        "for i in range(len(arr1)):\n",
        "  for j in range(len(arr2)):\n",
        "    if i==j:\n",
        "      pro=pro+arr1[i]*arr2[j]\n",
        "print(pro)\n",
        "  \n",
        "    "
      ],
      "metadata": {
        "colab": {
          "base_uri": "https://localhost:8080/"
        },
        "id": "YXEvDElIAZKI",
        "outputId": "a755be86-c604-40aa-8436-d2304def63b9"
      },
      "execution_count": 95,
      "outputs": [
        {
          "output_type": "stream",
          "name": "stdout",
          "text": [
            "32\n"
          ]
        }
      ]
    },
    {
      "cell_type": "code",
      "source": [
        "arr=[1,1,4,5,5,5,7]\n",
        "arr1=[]\n",
        "for i in range(len(arr)):\n",
        "  if arr[i] not in arr1:\n",
        "    arr1.append(arr[i])\n",
        "print(arr1)"
      ],
      "metadata": {
        "colab": {
          "base_uri": "https://localhost:8080/"
        },
        "id": "pKve9grRA_ht",
        "outputId": "5004734d-a513-4417-b5f1-ac314478937e"
      },
      "execution_count": 99,
      "outputs": [
        {
          "output_type": "stream",
          "name": "stdout",
          "text": [
            "[1, 4, 5, 7]\n"
          ]
        }
      ]
    },
    {
      "cell_type": "code",
      "source": [
        "list1=[1,2,3]\n",
        "arr=np.array(list1)\n",
        "print(arr)"
      ],
      "metadata": {
        "colab": {
          "base_uri": "https://localhost:8080/"
        },
        "id": "P4eWHOBgCfMu",
        "outputId": "18f5a1fe-1153-4b79-f494-61cc647552b3"
      },
      "execution_count": 100,
      "outputs": [
        {
          "output_type": "stream",
          "name": "stdout",
          "text": [
            "[1 2 3]\n"
          ]
        }
      ]
    },
    {
      "cell_type": "code",
      "source": [
        "arr=np.array([1,2,3])\n",
        "arr.fill(9)\n",
        "print(arr)"
      ],
      "metadata": {
        "colab": {
          "base_uri": "https://localhost:8080/"
        },
        "id": "kXfXpL86DepN",
        "outputId": "bd9f77fb-223c-4565-eb19-8676fb88a0e3"
      },
      "execution_count": 101,
      "outputs": [
        {
          "output_type": "stream",
          "name": "stdout",
          "text": [
            "[9 9 9]\n"
          ]
        }
      ]
    },
    {
      "cell_type": "code",
      "source": [
        "arr1=np.array([1,2,3,4,5,6,7,8,9,10])\n",
        "arr1.reshape(5,2)"
      ],
      "metadata": {
        "colab": {
          "base_uri": "https://localhost:8080/"
        },
        "id": "R32vheNmEZd6",
        "outputId": "249657e0-a9ec-4740-bcaa-ffdcb54f5372"
      },
      "execution_count": 104,
      "outputs": [
        {
          "output_type": "execute_result",
          "data": {
            "text/plain": [
              "array([[ 1,  2],\n",
              "       [ 3,  4],\n",
              "       [ 5,  6],\n",
              "       [ 7,  8],\n",
              "       [ 9, 10]])"
            ]
          },
          "metadata": {},
          "execution_count": 104
        }
      ]
    },
    {
      "cell_type": "code",
      "source": [
        "arr=np.array([2,1,9,1,2,22,1,1,4,55,6,2,56])\n",
        "print(np.mean(arr))\n",
        "print(np.std(arr))\n",
        "print(np.var(arr))\n",
        "print(np.max(arr))\n",
        "print(np.min(arr))\n",
        "print(np.median(arr))\n",
        "print(np.argmax(arr))\n",
        "print(np.argmin(arr))\n",
        "\n"
      ],
      "metadata": {
        "colab": {
          "base_uri": "https://localhost:8080/"
        },
        "id": "S_b2twUmEucc",
        "outputId": "4495b367-6f08-44bf-de71-fa6a08b8432b"
      },
      "execution_count": 115,
      "outputs": [
        {
          "output_type": "stream",
          "name": "stdout",
          "text": [
            "12.461538461538462\n",
            "19.165736192147232\n",
            "367.32544378698225\n",
            "56\n",
            "1\n",
            "2.0\n",
            "12\n",
            "1\n"
          ]
        }
      ]
    },
    {
      "cell_type": "code",
      "source": [
        "arr=np.array([[2,-12],[1,-5]])\n",
        "x,y=np.linalg.eig(arr)\n",
        "print(x)\n",
        "print(y)"
      ],
      "metadata": {
        "colab": {
          "base_uri": "https://localhost:8080/"
        },
        "id": "wcJHP0nMImK-",
        "outputId": "4609a42a-4f69-4b09-ba4a-61065bc159ce"
      },
      "execution_count": 119,
      "outputs": [
        {
          "output_type": "stream",
          "name": "stdout",
          "text": [
            "[-1. -2.]\n",
            "[[0.9701425  0.9486833 ]\n",
            " [0.24253563 0.31622777]]\n"
          ]
        }
      ]
    },
    {
      "cell_type": "code",
      "source": [
        "arr=np.array([[11, 22, 11, 31],[25, 33, 31, 28]])\n",
        "result = np.corrcoef(arr)\n",
        "\n",
        "print(result)\n"
      ],
      "metadata": {
        "colab": {
          "base_uri": "https://localhost:8080/"
        },
        "id": "ua8YUFWBN6P-",
        "outputId": "fcb4b4c8-93c5-4a8b-cda3-47b65fe22ddf"
      },
      "execution_count": 123,
      "outputs": [
        {
          "output_type": "stream",
          "name": "stdout",
          "text": [
            "[[1.         0.15997968]\n",
            " [0.15997968 1.        ]]\n"
          ]
        }
      ]
    }
  ]
}